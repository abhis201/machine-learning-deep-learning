{
 "cells": [
  {
   "cell_type": "markdown",
   "id": "eaaedd06-b217-4c99-9bca-851497ab1fc5",
   "metadata": {},
   "source": [
    "# The X matrix, the y vector, what are the samples, the classes, define a set of features, define the dimensions of X and y and indicate what they mean."
   ]
  },
  {
   "cell_type": "markdown",
   "id": "debd8842-5c48-473b-8982-7c8f6af4b34c",
   "metadata": {},
   "source": [
    "# Q1. A classification model for the detection of electric vehicles while on the road."
   ]
  },
  {
   "cell_type": "code",
   "execution_count": null,
   "id": "9ebe9799-f42f-4da0-ac9e-6a177e130cdc",
   "metadata": {},
   "outputs": [],
   "source": [
    "X Matrix:  \n",
    "Sample size: the percentage of electric cars in the United States is approximately 6%. So, to classify atleast 100 cars as electric vehicle\n",
    "we need a sample size of 1667.\n",
    "Features: (10) vehicle license plate, vehicle brand name, vehicle model name, vehicle exhaust sound, vehicle shape, \n",
    "vehicle lights, vehicle features, driver posture, driver hand position, fuel intake location picture."
   ]
  },
  {
   "cell_type": "code",
   "execution_count": null,
   "id": "50779f95-a1b6-4355-8491-792a243fae7e",
   "metadata": {},
   "outputs": [],
   "source": [
    "Y Matrix:\n",
    "Sample Size: remains the same as X Matrix. i.e. 1667.\n",
    "Output: Binary Result(1/0) => Electric Vehicle and Not Electric Vehicle"
   ]
  },
  {
   "cell_type": "code",
   "execution_count": null,
   "id": "d1600035-1489-415c-9d27-30533b2648b2",
   "metadata": {},
   "outputs": [],
   "source": [
    "Sample: Vehicles on the road."
   ]
  },
  {
   "cell_type": "code",
   "execution_count": null,
   "id": "1102b7c5-696b-47cc-806a-073a8eb47682",
   "metadata": {},
   "outputs": [],
   "source": [
    "Classes: 2(Electric, Not-Electric)"
   ]
  },
  {
   "cell_type": "code",
   "execution_count": null,
   "id": "0c1fc682-f8bb-405c-ac53-2cd51f8b1720",
   "metadata": {},
   "outputs": [],
   "source": [
    "X-Dimensions: [1667, 10]"
   ]
  },
  {
   "cell_type": "code",
   "execution_count": null,
   "id": "9a87bbca-8091-488b-9f68-e88265ccea65",
   "metadata": {},
   "outputs": [],
   "source": [
    "y-Dimensions: [1667, 1]"
   ]
  },
  {
   "cell_type": "markdown",
   "id": "05599e2c-29c1-47c1-a5ec-0df074ec2ea5",
   "metadata": {},
   "source": [
    "# Q2. A model for predicting the age and breed of pets in a veterinary clinic. "
   ]
  },
  {
   "cell_type": "code",
   "execution_count": null,
   "id": "786d34a5-d073-4a6f-9a5f-5fa759deb804",
   "metadata": {},
   "outputs": [],
   "source": [
    "X Matrix:\n",
    "Sample Size: The average count of pets coming to the vet is somewhere around 40 each day.\n",
    "The type of animals which go the vet are dogs, cats, birds, small mammals. \n",
    "To have a rough estimate for each type of animal atleast 3 days i.e 120 samples are required.\n",
    "Features: (15) body size, hair size, x-ray, face shape, number of legs, ear shape, ear size, wings or not?, \n",
    "jaw structure, mouth size, tail shape, tail size, nail size, paw shape, voice."
   ]
  },
  {
   "cell_type": "code",
   "execution_count": null,
   "id": "82e9981f-e2a0-4bff-9cb3-0d8bd7ff75c0",
   "metadata": {},
   "outputs": [],
   "source": [
    "Y Matrix:\n",
    "Sample Size: 120 Animals\n",
    "Output: Age - Range[0,500], Breed - Set{Husky Dog, Alaskan Dog, Arabian Cat, White Pigeon etc.}"
   ]
  },
  {
   "cell_type": "code",
   "execution_count": null,
   "id": "8520b793-9ca2-4c86-99f8-682e8a68aa48",
   "metadata": {},
   "outputs": [],
   "source": [
    "Sample: Animals/Pets"
   ]
  },
  {
   "cell_type": "code",
   "execution_count": null,
   "id": "62f94a55-da73-495c-8bd1-777790324743",
   "metadata": {},
   "outputs": [],
   "source": [
    "Classes: The output for age is more of a regression rather than a classification, while Breed can be classified based on their features."
   ]
  },
  {
   "cell_type": "code",
   "execution_count": null,
   "id": "2ef04f15-8f79-43c7-aa7c-1394e0fdb0a6",
   "metadata": {},
   "outputs": [],
   "source": [
    "X-Dimensions: [120, 15]"
   ]
  },
  {
   "cell_type": "code",
   "execution_count": null,
   "id": "8dca81f8-e4eb-4419-91ab-bcdebe7aabb2",
   "metadata": {},
   "outputs": [],
   "source": [
    "Y-Dimensions: [120, 2]"
   ]
  },
  {
   "cell_type": "markdown",
   "id": "e96639ee-b7df-4195-bb79-0d70ea61f36e",
   "metadata": {},
   "source": [
    "# Q3. A model that identifies if a patient in the ER is having a stroke."
   ]
  },
  {
   "cell_type": "code",
   "execution_count": null,
   "id": "546e4e7e-4708-4b0a-ae9b-d36f3a3cd597",
   "metadata": {},
   "outputs": [],
   "source": [
    "X Matrix:\n",
    "Sample Size: The probability of patient coming with a stroke is 12.5% in the US. To classify atleast 100 patients with stroke,\n",
    "we need a sample size of 800 patients.\n",
    "Features: (10) numbness, confusion, vision, balance, headache, breath rate, heart rate, Electrocardiagram, blood pressure, medication history"
   ]
  },
  {
   "cell_type": "code",
   "execution_count": null,
   "id": "91955531-918a-49f0-aacc-0cb6b9632124",
   "metadata": {},
   "outputs": [],
   "source": [
    "Y Matrix:\n",
    "Sample Size: 800 sample patients.\n",
    "Output: Binary(0/1) => Having a stroke and not having a stroke"
   ]
  },
  {
   "cell_type": "code",
   "execution_count": null,
   "id": "23a755c5-720d-467a-9d62-80ab44caf582",
   "metadata": {},
   "outputs": [],
   "source": [
    "Sample: Patients of the ER"
   ]
  },
  {
   "cell_type": "code",
   "execution_count": null,
   "id": "b734e0c6-a1c4-418b-87a3-ecbe9a286d51",
   "metadata": {},
   "outputs": [],
   "source": [
    "Classes: 2 (Stroke, Not Stroke)"
   ]
  },
  {
   "cell_type": "code",
   "execution_count": null,
   "id": "64f0bfdc-45eb-4511-a5b5-3d908b7c7ba3",
   "metadata": {},
   "outputs": [],
   "source": [
    "X-Dimensions: [800,10]"
   ]
  },
  {
   "cell_type": "code",
   "execution_count": null,
   "id": "1e5b91d9-5b99-42ea-8698-9130022a5877",
   "metadata": {},
   "outputs": [],
   "source": [
    "Y-Dimensions: [800,1]"
   ]
  }
 ],
 "metadata": {
  "kernelspec": {
   "display_name": "Python 3 (ipykernel)",
   "language": "python",
   "name": "python3"
  },
  "language_info": {
   "codemirror_mode": {
    "name": "ipython",
    "version": 3
   },
   "file_extension": ".py",
   "mimetype": "text/x-python",
   "name": "python",
   "nbconvert_exporter": "python",
   "pygments_lexer": "ipython3",
   "version": "3.11.5"
  }
 },
 "nbformat": 4,
 "nbformat_minor": 5
}
